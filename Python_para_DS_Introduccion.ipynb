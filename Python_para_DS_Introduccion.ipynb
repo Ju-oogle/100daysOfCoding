{
  "nbformat": 4,
  "nbformat_minor": 0,
  "metadata": {
    "colab": {
      "name": "Python para DS - Introduccion.ipynb",
      "provenance": [],
      "collapsed_sections": [],
      "authorship_tag": "ABX9TyNecKHSgCuL8/PYVzL2vXDc",
      "include_colab_link": true
    },
    "kernelspec": {
      "name": "python3",
      "display_name": "Python 3"
    },
    "language_info": {
      "name": "python"
    }
  },
  "cells": [
    {
      "cell_type": "markdown",
      "metadata": {
        "id": "view-in-github",
        "colab_type": "text"
      },
      "source": [
        "<a href=\"https://colab.research.google.com/github/Ju-oogle/100daysOfCoding/blob/master/Python_para_DS_Introduccion.ipynb\" target=\"_parent\"><img src=\"https://colab.research.google.com/assets/colab-badge.svg\" alt=\"Open In Colab\"/></a>"
      ]
    },
    {
      "cell_type": "markdown",
      "source": [
        "## Variables, funciones y lenguaje de alto nivel."
      ],
      "metadata": {
        "id": "VqFzN_CNCIlS"
      }
    },
    {
      "cell_type": "markdown",
      "source": [
        "Lo que aprendimos en esta aula:\n",
        "\n",
        "*   Aprendimos qué son las variables.\n",
        "*   Creamos nuestra primera función.\n",
        "*   Entendimos la diferencia entre lenguaje de alto y bajo nivel."
      ],
      "metadata": {
        "id": "sH0j6xmwCVk7"
      }
    },
    {
      "cell_type": "code",
      "source": [
        "#Variable es un nombre que hace referencia a un valor. Es como una etiqueta que colocamos a ese valor y cuando necesitamos usarla, la llamamos por el nombre que se le asignó en la \n",
        "#etiqueta. El comando de asignación (el signo igual =) crea una nueva variable y le asigna un valor, como vimos en clases.\n",
        "nombre = 'Mamba'  # String\n",
        "peso = 27.5  # Float - en vez de separar el valor con coma (3,14), usamos un punto (3.14)\n",
        "esPerro = True  # Boolean\n",
        "nacimiento = 2017  # Interger"
      ],
      "metadata": {
        "id": "HH2Vd5FTCh9v"
      },
      "execution_count": null,
      "outputs": []
    },
    {
      "cell_type": "markdown",
      "source": [
        "Crea una función llamada saludar que cuando se ejecute, almacene el contenido digitado por el usuario a través de la función input en una variable llamada nombre. Después, utiliza la función print para mostrar un mensaje de bienvenida concatenando el nombre ingresado."
      ],
      "metadata": {
        "id": "dxULE4QyB5WG"
      }
    },
    {
      "cell_type": "code",
      "execution_count": null,
      "metadata": {
        "id": "Fn9BL2a-61HS"
      },
      "outputs": [],
      "source": [
        "def saludar():\n",
        "  nombre = input('Ingrese su nombre: ')\n",
        "  print(f'Hola {nombre}, sea bienvenid@!')"
      ]
    },
    {
      "cell_type": "code",
      "source": [
        "saludar()  # Invocación de la función sin argumento"
      ],
      "metadata": {
        "id": "yjrfWpn57tKj",
        "colab": {
          "base_uri": "https://localhost:8080/"
        },
        "outputId": "4349e3b6-d271-411c-af7d-9cc3fd670c25"
      },
      "execution_count": null,
      "outputs": [
        {
          "output_type": "stream",
          "name": "stdout",
          "text": [
            "Ingrese su nombre: Mambis\n",
            "Hola Mambis, sea bienvenid@!\n"
          ]
        }
      ]
    },
    {
      "cell_type": "code",
      "source": [
        "def nombre_completo():\n",
        "   primer_nombre = input('¿Cuál es tu primer nombre? ')\n",
        "   apellido = input('¿Cuál es tu apellido? ')\n",
        "   nombre_completo = primer_nombre + ' ' + apellido\n",
        "   print(nombre_completo)\n"
      ],
      "metadata": {
        "id": "k2yrqiaj74y4"
      },
      "execution_count": null,
      "outputs": []
    },
    {
      "cell_type": "code",
      "source": [
        "nombre_completo()  # Invocación de la función sin argumento"
      ],
      "metadata": {
        "id": "rhO-yfOn_OuX",
        "colab": {
          "base_uri": "https://localhost:8080/"
        },
        "outputId": "fb90eb97-ab73-4685-cf0d-b263660ef1dd"
      },
      "execution_count": null,
      "outputs": [
        {
          "output_type": "stream",
          "name": "stdout",
          "text": [
            "¿Cuál es tu primer nombre? Mambis\n",
            "¿Cuál es tu apellido? Simonovich\n",
            "Mambis Simonovich\n"
          ]
        }
      ]
    },
    {
      "cell_type": "markdown",
      "source": [
        "## Parametros, condicionales y conversion.\n",
        "\n"
      ],
      "metadata": {
        "id": "Lxnyicu9DIIh"
      }
    },
    {
      "cell_type": "markdown",
      "source": [
        "Lo que aprendimos en esta aula:\n",
        "\n",
        "*   Creamos una función que recibe un parámetro.\n",
        "*   Aprendimos a usar las condicionales.\n",
        "*   Convertimos el string str de la función input, que es pasado por el usuario para un valor entero int."
      ],
      "metadata": {
        "id": "snBwswkGDVYB"
      }
    },
    {
      "cell_type": "code",
      "source": [
        "def saludar_con_parametros(nombre): # Función con parámetro\n",
        "  print(f'Hola {nombre}, sea bienvenid@!')"
      ],
      "metadata": {
        "id": "9eaCyJsqDVwU"
      },
      "execution_count": null,
      "outputs": []
    },
    {
      "cell_type": "code",
      "source": [
        "saludar_con_parametros(nombre)  # Invocación de la función con argumento pasado por variable"
      ],
      "metadata": {
        "id": "TRoNZFKiETCn"
      },
      "execution_count": null,
      "outputs": []
    },
    {
      "cell_type": "code",
      "source": [
        "saludar_con_parametros('Mambis') # Invocación de la función con argumento forzado"
      ],
      "metadata": {
        "id": "jA20t7sVEX6u"
      },
      "execution_count": null,
      "outputs": []
    },
    {
      "cell_type": "markdown",
      "source": [
        "Crear una función llamada velocidad, que reciba 2 parámetros llamados espacio y tiempo, que realice el cálculo respectivo y que muestre una salida semejante al siguiente ejemplo:\n",
        "Velocidad: 5 m/s"
      ],
      "metadata": {
        "id": "ZUytcVtgFc5r"
      }
    },
    {
      "cell_type": "code",
      "source": [
        "def velocidad(espacio, tiempo):\n",
        " v = espacio / tiempo\n",
        " print(f'Velocidad: {v} m/s')"
      ],
      "metadata": {
        "id": "1uqF3fQNEyMl"
      },
      "execution_count": null,
      "outputs": []
    },
    {
      "cell_type": "code",
      "source": [
        "velocidad(100, 20)"
      ],
      "metadata": {
        "id": "fdo4akykFUJZ"
      },
      "execution_count": null,
      "outputs": []
    },
    {
      "cell_type": "code",
      "source": [
        "def puede_conducir(edad):  # Condicionales\n",
        "  if edad >= 18:\n",
        "    print('Tiene edad suficiente para conducir')\n",
        "  else:\n",
        "    print('Aun no alcanza la edad suficiente para conducir')"
      ],
      "metadata": {
        "id": "a4kTQHLKFpNo"
      },
      "execution_count": null,
      "outputs": []
    },
    {
      "cell_type": "code",
      "source": [
        "puede_conducir(19)  # Invocación de la función con argumento forzado"
      ],
      "metadata": {
        "id": "EZTSoHNaFpgS"
      },
      "execution_count": null,
      "outputs": []
    },
    {
      "cell_type": "code",
      "source": [
        "puede_conducir(14)  # Invocación de la función con argumento forzado"
      ],
      "metadata": {
        "id": "yxtvG645GHif"
      },
      "execution_count": null,
      "outputs": []
    },
    {
      "cell_type": "markdown",
      "source": [
        "Evalúa la siguiente expresión condicional hecha en Python para descubrir cómo se interpreta la nota de NPS (Net Promoter Score) dada por un alumno a un curso de Alura."
      ],
      "metadata": {
        "id": "hCBNf3K4J7mo"
      }
    },
    {
      "cell_type": "code",
      "source": [
        "def clasificar_nps(nota):\n",
        "  if nota <= 6:\n",
        "    print('El alumno es considerado Detractor')\n",
        "  else:\n",
        "    if nota <= 8: \n",
        "      print('El alumno es considerado Neutro')\n",
        "    else:\n",
        "      print('El alumno es considerado Promotor')\n",
        "\n",
        "clasificar_nps(9)"
      ],
      "metadata": {
        "id": "AvdScH_FGJkL"
      },
      "execution_count": null,
      "outputs": []
    },
    {
      "cell_type": "code",
      "source": [
        "def puede_conducir_sin_parametros():  # Conversion de tipos de datos\n",
        "  edad = input('Ingrese su edad: ')  # Siempre recibira un valor de tipo string\n",
        "  edad = int(edad)  # Convierte el string en integer para su evaluacion\n",
        "  if edad >= 18:\n",
        "    print('Tiene edad suficiente para conducir')\n",
        "  else:\n",
        "    print('Aun no alcanza la edad suficiente para conducir')"
      ],
      "metadata": {
        "id": "3Lpw5gPlFpny"
      },
      "execution_count": null,
      "outputs": []
    },
    {
      "cell_type": "code",
      "source": [
        "puede_conducir_sin_parametros()"
      ],
      "metadata": {
        "id": "ySQY4flALEqS"
      },
      "execution_count": null,
      "outputs": []
    },
    {
      "cell_type": "code",
      "source": [
        "def permiso_de_conducir():\n",
        " edad = input('¿Cuál es tu edad? ')  # Recibe un String\n",
        " if edad >= 18:  # Compara un string con un integer\n",
        "   print('Ya tienes edad suficiente para obtener permiso de conducir')\n",
        " else:\n",
        "   tiempo = 18 - edad\n",
        "   print(f 'Tranquilo, faltan {tiempo} año(s) para obtener permiso de conducir')"
      ],
      "metadata": {
        "id": "HNkYqBx1LwqM"
      },
      "execution_count": null,
      "outputs": []
    },
    {
      "cell_type": "code",
      "source": [
        "def permiso_de_conducir():\n",
        " edad = int(input('¿Cuál es tu edad? '))  # Recibe un integer\n",
        " if edad >= 18:  # Compara integers\n",
        "   print('Ya tienes edad suficiente para obtener permiso de conducir')\n",
        " else:\n",
        "   tiempo = 18 - edad\n",
        "   print(f'Tranquilo, aun te faltan {tiempo} año(s) para poder obtener permiso de conducir')\n",
        "\n",
        "permiso_de_conducir()"
      ],
      "metadata": {
        "id": "9M86Jv-oLyjZ"
      },
      "execution_count": null,
      "outputs": []
    },
    {
      "cell_type": "markdown",
      "source": [
        "##Listas, bucles y tipo booleano"
      ],
      "metadata": {
        "id": "KelPCxe9PgCm"
      }
    },
    {
      "cell_type": "markdown",
      "source": [
        "Lo que aprendimos en esta aula:\n",
        "\n",
        "*   Creamos nuestra primera lista en Python.\n",
        "*   Aprendimos a utilizar ciclos y bucles, específicamente la estructura de repetición for.\n",
        "*   Descubrimos el tipo booleano.\n",
        "*   Vimos que es posible almacenar elementos de diferentes tipos en una lista."
      ],
      "metadata": {
        "id": "uF0EJ9cdmDCv"
      }
    },
    {
      "cell_type": "code",
      "source": [
        "edades = [18, 15, 12, 45, 50]  # Creando una lista \n",
        "''' [18, 15, 12, 45, 50] \n",
        "    [ 0, 01, 02, 03, 04] <- posiciones\n",
        "    [ 0, -4, -3, -2, -1]'''"
      ],
      "metadata": {
        "id": "sZ97o8X9NGRx"
      },
      "execution_count": null,
      "outputs": []
    },
    {
      "cell_type": "code",
      "source": [
        "edades  # Invocando los datos guardados en la variable de tipo lista"
      ],
      "metadata": {
        "id": "hO-QErp3PtEv"
      },
      "execution_count": null,
      "outputs": []
    },
    {
      "cell_type": "code",
      "source": [
        "type(edades)  # Chequeando el tipo de dato guardado en la variable 'edades'"
      ],
      "metadata": {
        "id": "khHK4PAsPtsB"
      },
      "execution_count": null,
      "outputs": []
    },
    {
      "cell_type": "code",
      "source": [
        "edades[2]  # Accediendo a un valor por medio del indice de posicion"
      ],
      "metadata": {
        "id": "YyuPmB7fPv-W"
      },
      "execution_count": null,
      "outputs": []
    },
    {
      "cell_type": "code",
      "source": [
        "edades[-3] b # Accediendo de reversa"
      ],
      "metadata": {
        "id": "TqZ5O5GjU5cY"
      },
      "execution_count": null,
      "outputs": []
    },
    {
      "cell_type": "code",
      "source": [
        "edades[:5] # Posicion +1 para que incluya el ultimo"
      ],
      "metadata": {
        "id": "qyVbGGY-VGDv"
      },
      "execution_count": null,
      "outputs": []
    },
    {
      "cell_type": "code",
      "source": [
        "edades[1:3]  # Incluye start, no stop"
      ],
      "metadata": {
        "id": "qeTrigkhVQcY"
      },
      "execution_count": null,
      "outputs": []
    },
    {
      "cell_type": "code",
      "source": [
        "# Podemos afirmar que la plataforma tiene: Cursos de Tecnología y Negocios Digitales.\n",
        "# Sabiendo esto, observa el siguiente código con todas las palabras en una lista fuera de orden:\n",
        "\n",
        "frase_alura = ['Digitales', 'y ', 'Negocios ', 'de ', 'Tecnología ', 'Cursos ']\n",
        "                 #  0          1        2         3         4            5\n",
        "                #   0         -5       -4        -3        -2           -1 "
      ],
      "metadata": {
        "id": "NIFU4KFKVUH7"
      },
      "execution_count": null,
      "outputs": []
    },
    {
      "cell_type": "code",
      "source": [
        "frase_alura[-1] + frase_alura[3] + frase_alura[-2] + frase_alura[1] + frase_alura[2] + frase_alura[0]"
      ],
      "metadata": {
        "id": "DD52qbmJU-Kt"
      },
      "execution_count": null,
      "outputs": []
    },
    {
      "cell_type": "code",
      "source": [
        "# Bucle fuera de la funcion\n",
        "\n",
        "edades = [18, 15, 12, 45, 50] \n",
        "\n",
        "def verificar_puede_conducir(edad):  # Condicionales\n",
        "  if edad >= 18:\n",
        "    print('Tiene edad suficiente para conducir')\n",
        "  else:\n",
        "    print('Aun no alcanza la edad suficiente para conducir')\n",
        "\n",
        "for edad in edades:\n",
        "  verificar_puede_conducir(edad)"
      ],
      "metadata": {
        "id": "4iJuPgqUQPRV"
      },
      "execution_count": null,
      "outputs": []
    },
    {
      "cell_type": "code",
      "source": [
        "# Bucle dentro de la funcion\n",
        "\n",
        "edades = [12, 19, 2, 17, 18] \n",
        "\n",
        "def chequear_puede_conducir(edades):  # Condicionales\n",
        "  for edad in edades:\n",
        "    if edad >= 18:\n",
        "      print('Tiene edad suficiente para conducir')\n",
        "    else:\n",
        "      print('Aun no alcanza la edad suficiente para conducir')\n",
        "\n",
        "chequear_puede_conducir(edades)"
      ],
      "metadata": {
        "id": "o8EFKyjVb3wE"
      },
      "execution_count": null,
      "outputs": []
    },
    {
      "cell_type": "markdown",
      "source": [
        "¿Cuál de las opciones tiene la función con la sintaxis adecuada y con la invocación a la función correcta que genera el resultado de abajo?\n",
        "\n",
        "*   El alumno es considerado Promotor\n",
        "*   El alumno es considerado Neutro\n",
        "*   El alumno es considerado Promotor\n",
        "*   El alumno es considerado Detractor\n",
        "*   El alumno es considerado Neutro"
      ],
      "metadata": {
        "id": "xO0OqfRJeIB_"
      }
    },
    {
      "cell_type": "code",
      "source": [
        "def clasificar_nps(notas):\n",
        "  for nota in notas:\n",
        "    if nota <= 6:\n",
        "      print('El alumno es considerado Detractor')\n",
        "    else:\n",
        "      if nota <= 8: \n",
        "        print('El alumno es considerado Neutro')\n",
        "      else:\n",
        "        print('El alumno es considerado Promotor')\n",
        "\n",
        "clasificar_nps([9,8,10,6,7])"
      ],
      "metadata": {
        "id": "Cj6DA3XcdDSb"
      },
      "execution_count": null,
      "outputs": []
    },
    {
      "cell_type": "code",
      "source": [
        "# Booleano\n",
        "edad = 18\n",
        "edad < 18"
      ],
      "metadata": {
        "id": "xQFzDgakgYit"
      },
      "execution_count": null,
      "outputs": []
    },
    {
      "cell_type": "code",
      "source": [
        "verificado = []\n",
        "edades = [13, 15, 20]\n",
        "\n",
        "def verif_conducir_booleana(verificado, edades):\n",
        "  for edad in edades:\n",
        "    if edad >= 18:\n",
        "      verificado.append(True)\n",
        "    else:\n",
        "      verificado.append(False)\n",
        "verif_conducir_booleana(verificado, edades)"
      ],
      "metadata": {
        "id": "KXpiLqDwkoLf"
      },
      "execution_count": null,
      "outputs": []
    },
    {
      "cell_type": "code",
      "source": [
        "verificado"
      ],
      "metadata": {
        "id": "k8W9KdsslBDW"
      },
      "execution_count": null,
      "outputs": []
    },
    {
      "cell_type": "code",
      "source": [
        "for item in verificado:\n",
        "  if item == True:\n",
        "    print('Tiene edad suficiente para conducir')\n",
        "  else:\n",
        "    print('Aun no alcanza la edad suficiente para conducir')"
      ],
      "metadata": {
        "id": "Rm8UidvnlFwF"
      },
      "execution_count": null,
      "outputs": []
    },
    {
      "cell_type": "code",
      "source": [
        "mascota = ['Nina', 6, True, 'callejera']# Lista compuesta por datos mixtos\n",
        "for elemento in mascota:\n",
        "  print(f'El elemento {elemento} de la lista \"mascota\" es de tipo ', type(elemento))"
      ],
      "metadata": {
        "id": "xhQcW2ZJlbBE"
      },
      "execution_count": null,
      "outputs": []
    },
    {
      "cell_type": "markdown",
      "source": [
        "##El sistema de importacion de librerias"
      ],
      "metadata": {
        "id": "SJY7T8NUmbQR"
      }
    },
    {
      "cell_type": "markdown",
      "source": [
        "Lo que aprendimos en esta aula:\n",
        "\n",
        "*   Aprendimos cómo importar el método randrange para generar números enteros aleatorios entre 0 y 10.\n",
        "*   Entendimos lo que son números pseudoaleatorios.\n",
        "*   Vimos cómo establecer una semilla a través del módulo Seed para tener control sobre la generación de números pseudoaleatorios."
      ],
      "metadata": {
        "id": "qndXm-dzmbcY"
      }
    },
    {
      "cell_type": "code",
      "source": [
        "from random import randrange, seed  # Importando modulos especificos de la biblioteca\n",
        "type(randrange)"
      ],
      "metadata": {
        "id": "UOrEWHfqlOwp",
        "colab": {
          "base_uri": "https://localhost:8080/"
        },
        "outputId": "16ae7097-483d-4c72-ccdd-d52fc0007a24"
      },
      "execution_count": null,
      "outputs": [
        {
          "output_type": "execute_result",
          "data": {
            "text/plain": [
              "method"
            ]
          },
          "metadata": {},
          "execution_count": 8
        }
      ]
    },
    {
      "cell_type": "code",
      "source": [
        "randrange(0,11) # Un numero aleatorio del 0 al 10 inclusive."
      ],
      "metadata": {
        "colab": {
          "base_uri": "https://localhost:8080/"
        },
        "id": "mXeOaQtsm4Qx",
        "outputId": "1f5da154-3132-4302-c100-e100fec72791"
      },
      "execution_count": null,
      "outputs": [
        {
          "output_type": "execute_result",
          "data": {
            "text/plain": [
              "4"
            ]
          },
          "metadata": {},
          "execution_count": 9
        }
      ]
    },
    {
      "cell_type": "code",
      "source": [
        "notas = []  # Lista de notas\n",
        "for nota in range(6):  # Bucle que ruede 6 veces\n",
        "  notas.append(randrange(0,11))  # Va agregando notas aleatorias en la lista\n",
        "notas  # Imprime la lista resultando"
      ],
      "metadata": {
        "colab": {
          "base_uri": "https://localhost:8080/"
        },
        "id": "jZF2H70Pnjxw",
        "outputId": "756d5155-378e-45d1-b513-d09eb965f535"
      },
      "execution_count": null,
      "outputs": [
        {
          "output_type": "execute_result",
          "data": {
            "text/plain": [
              "[7, 10, 9, 1, 9, 0]"
            ]
          },
          "metadata": {},
          "execution_count": 28
        }
      ]
    },
    {
      "cell_type": "code",
      "source": [
        "len(notas)"
      ],
      "metadata": {
        "colab": {
          "base_uri": "https://localhost:8080/"
        },
        "id": "yI6hTCCTonTQ",
        "outputId": "0c4fc85a-a200-4a8c-9624-708d49e0ee72"
      },
      "execution_count": null,
      "outputs": [
        {
          "output_type": "execute_result",
          "data": {
            "text/plain": [
              "6"
            ]
          },
          "metadata": {},
          "execution_count": 13
        }
      ]
    },
    {
      "cell_type": "code",
      "source": [
        "notas = []  # Lista de notas\n",
        "seed(3)  # Al asignar los valores aleatorios a una seed, aunque actualice, siempre obtendre los mismos\n",
        "for nota in range(6):  # Bucle que ruede 6 veces\n",
        "  notas.append(randrange(0,11))  # Va agregando notas pseudo aleatorias en la lista\n",
        "notas  # Imprime la lista resultando"
      ],
      "metadata": {
        "colab": {
          "base_uri": "https://localhost:8080/"
        },
        "id": "oNEIhbefpEBn",
        "outputId": "b5d3cf4c-ecd4-4631-a03c-254dca22d0ea"
      },
      "execution_count": null,
      "outputs": [
        {
          "output_type": "execute_result",
          "data": {
            "text/plain": [
              "[3, 9, 8, 2, 5, 9]"
            ]
          },
          "metadata": {},
          "execution_count": 22
        }
      ]
    },
    {
      "cell_type": "markdown",
      "source": [
        "##Graficando con Matplotlib"
      ],
      "metadata": {
        "id": "JPrBobBTqL1s"
      }
    },
    {
      "cell_type": "markdown",
      "source": [
        "Lo que aprendimos en esta aula:\n",
        "\n",
        "*   Aprendimos cómo importar \"Matplotlib\" y a asignarle un apodo de \"plt\".\n",
        "*   Vimos que es posible crear listas a partir del código \"range\".\n",
        "*   Aprendimos cómo crear gráficos, definiendo el título, las etiquetas y el marcador, además de ocultar otros detalles no relevantes."
      ],
      "metadata": {
        "id": "V-bq4dtdqL9e"
      }
    },
    {
      "cell_type": "markdown",
      "source": [
        "Importa el módulo matplotlib.pyplot, dándole el apodo plt que suele dar la comunidad Python. Luego, traza el gráfico de las 8 notas de matemáticas, de modo que el eje x indique las pruebas y el eje y las notas, incluye un título al gráfico Notas de matemática y los respectivos labels a los ejes x y y."
      ],
      "metadata": {
        "id": "SW-QWVPtqgZQ"
      }
    },
    {
      "cell_type": "code",
      "source": [
        "import matplotlib.pyplot as plt\n",
        "x = list(range(1,7))\n",
        "y = notas"
      ],
      "metadata": {
        "id": "I8UD5nJLsPjx"
      },
      "execution_count": null,
      "outputs": []
    },
    {
      "cell_type": "code",
      "source": [
        "x"
      ],
      "metadata": {
        "colab": {
          "base_uri": "https://localhost:8080/"
        },
        "id": "sPqp8ukztZp8",
        "outputId": "23c14c8a-d7f2-4729-9074-029ae978f231"
      },
      "execution_count": null,
      "outputs": [
        {
          "output_type": "execute_result",
          "data": {
            "text/plain": [
              "[1, 2, 3, 4, 5, 6]"
            ]
          },
          "metadata": {},
          "execution_count": 25
        }
      ]
    },
    {
      "cell_type": "code",
      "source": [
        "y"
      ],
      "metadata": {
        "colab": {
          "base_uri": "https://localhost:8080/"
        },
        "id": "H_sjcMjRtaBm",
        "outputId": "263204a8-2f1d-46a4-bd5f-8f57ccf4a217"
      },
      "execution_count": null,
      "outputs": [
        {
          "output_type": "execute_result",
          "data": {
            "text/plain": [
              "[7, 10, 9, 1, 9, 0]"
            ]
          },
          "metadata": {},
          "execution_count": 30
        }
      ]
    },
    {
      "cell_type": "code",
      "source": [
        "plt.plot(x, y)\n",
        "plt.title('Notas de un alumno: Evaluaciones de Matematicas')\n",
        "plt.xlabel('Pruebas')  #Eje Horizontal\n",
        "plt.ylabel('Notas')  #Eje Vertical\n",
        "plt.show()"
      ],
      "metadata": {
        "colab": {
          "base_uri": "https://localhost:8080/",
          "height": 295
        },
        "id": "Lxg1hlkttRl6",
        "outputId": "a9f0ed1a-ddc6-4aa4-a404-addd9f52353e"
      },
      "execution_count": null,
      "outputs": [
        {
          "output_type": "display_data",
          "data": {
            "text/plain": [
              "<Figure size 432x288 with 1 Axes>"
            ],
            "image/png": "[encoded data removed]"
          },
          "metadata": {
            "needs_background": "light"
          }
        }
      ]
    },
    {
      "cell_type": "code",
      "source": [
        ""
      ],
      "metadata": {
        "id": "JU1v_dDzuNcB"
      },
      "execution_count": null,
      "outputs": []
    },
    {
      "cell_type": "code",
      "source": [
        "plt.plot(x, y, marker='o')\n",
        "plt.title('Notas de un alumno: Evaluaciones de Matematicas')\n",
        "plt.xlabel('Pruebas')  #Eje Horizontal\n",
        "plt.ylabel('Notas')  #Eje Vertical\n",
        "plt.show()"
      ],
      "metadata": {
        "colab": {
          "base_uri": "https://localhost:8080/",
          "height": 295
        },
        "id": "MSrFLn46txgc",
        "outputId": "02def99c-f2d3-46ec-cbae-739a05a1b30d"
      },
      "execution_count": null,
      "outputs": [
        {
          "output_type": "display_data",
          "data": {
            "text/plain": [
              "<Figure size 432x288 with 1 Axes>"
            ],
            "image/png": "[encoded data removed]"
          },
          "metadata": {
            "needs_background": "light"
          }
        }
      ]
    },
    {
      "cell_type": "markdown",
      "source": [
        "Para comparar el desempeño escolar de un determinado alumno, el colegio decidió crear un gráfico para cada materia, como se muestra en el siguiente código:"
      ],
      "metadata": {
        "id": "bvLR_hTAq2OJ"
      }
    },
    {
      "cell_type": "code",
      "source": [
        "notas_matematica = ['Matemática',8,7,6,6,7,7,8,10]\n",
        "notas_lenguaje = ['Lenguaje',9,9,9,8,5,6,8,5]\n",
        "notas_geografia = ['Geografía',10,10,6,7,7,7,8,7]\n",
        "\n",
        "notas = [notas_matematica, notas_lenguaje, notas_geografia]"
      ],
      "metadata": {
        "id": "Kq9T4ecJoetm"
      },
      "execution_count": null,
      "outputs": []
    },
    {
      "cell_type": "code",
      "source": [
        "for nota in notas:\n",
        " x = list(range(1, 9))\n",
        " y = nota[1:]\n",
        " plt.plot(x, y, marker='o')\n",
        " plt.xlabel('Exámenes')\n",
        " plt.ylabel('Notas')\n",
        " plt.title(nota[0])\n",
        " plt.show()\n",
        " #Observa que, la variable y almacenará la nota de cada materia a partir del índice 1, y, el título almacenado en el índice 0 será incluido en el gráfico."
      ],
      "metadata": {
        "colab": {
          "base_uri": "https://localhost:8080/",
          "height": 851
        },
        "id": "VlhEZsgRmywQ",
        "outputId": "42482ddd-059f-43ad-e2d3-dbcdc5676d30"
      },
      "execution_count": null,
      "outputs": [
        {
          "output_type": "display_data",
          "data": {
            "text/plain": [
              "<Figure size 432x288 with 1 Axes>"
            ],
            "image/png": "[encoded data removed]"
          },
          "metadata": {
            "needs_background": "light"
          }
        },
        {
          "output_type": "display_data",
          "data": {
            "text/plain": [
              "<Figure size 432x288 with 1 Axes>"
            ],
            "image/png": "[encoded data removed]"
          },
          "metadata": {
            "needs_background": "light"
          }
        },
        {
          "output_type": "display_data",
          "data": {
            "text/plain": [
              "<Figure size 432x288 with 1 Axes>"
            ],
            "image/png": "[encoded data removed]"
          },
          "metadata": {
            "needs_background": "light"
          }
        }
      ]
    }
  ]
}